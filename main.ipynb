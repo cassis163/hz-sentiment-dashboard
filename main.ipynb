{
 "cells": [
  {
   "cell_type": "code",
   "execution_count": 1,
   "metadata": {},
   "outputs": [],
   "source": [
    "from ipynb.fs.full.model import Model\n",
    "from ipynb.fs.defs.search import update_sources\n",
    "from ipynb.fs.defs.web_scrape import update_comments\n",
    "\n",
    "# Update data if necessary\n",
    "#update_sources()\n",
    "#update_comments()"
   ]
  },
  {
   "cell_type": "code",
   "execution_count": 2,
   "metadata": {},
   "outputs": [
    {
     "name": "stdout",
     "output_type": "stream",
     "text": [
      "\n",
      " Started training\n",
      "\n",
      " Training time elapsed: 73.54643225669861\n",
      "\n",
      " Best parameters: {'logisticregression__C': 4.281332398719396, 'logisticregression__penalty': 'l2', 'logisticregression__solver': 'liblinear'}\n",
      "\n",
      " Classification report: \n",
      "               precision    recall  f1-score   support\n",
      "\n",
      "    negative       0.89      0.86      0.87      4479\n",
      "    positive       0.86      0.89      0.88      4422\n",
      "\n",
      "    accuracy                           0.88      8901\n",
      "   macro avg       0.88      0.88      0.88      8901\n",
      "weighted avg       0.88      0.88      0.88      8901\n",
      "\n",
      "\n",
      " Confusion matrix: \n",
      " [[3854  625]\n",
      " [ 483 3939]]\n"
     ]
    }
   ],
   "source": [
    "model = Model()\n",
    "model.train()\n",
    "model.test()"
   ]
  },
  {
   "cell_type": "code",
   "execution_count": 3,
   "metadata": {},
   "outputs": [
    {
     "name": "stdout",
     "output_type": "stream",
     "text": [
      "              precision    recall  f1-score   support\n",
      "\n",
      "    negative       0.83      0.59      0.69        41\n",
      "    positive       0.06      0.17      0.08         6\n",
      "\n",
      "    accuracy                           0.53        47\n",
      "   macro avg       0.44      0.38      0.38        47\n",
      "weighted avg       0.73      0.53      0.61        47\n",
      "\n"
     ]
    }
   ],
   "source": [
    "from os import getcwd\n",
    "import pandas as pd\n",
    "from sklearn.metrics import classification_report\n",
    "\n",
    "comments_df = pd.read_csv(getcwd() + '/data/comments_test.csv')\n",
    "# Convert the values to sentiment model outputs\n",
    "comments_df['actual_sentiment'] = comments_df['actual_sentiment'] \\\n",
    "    .replace(0, 'negative') \\\n",
    "    .replace(1, 'positive')\n",
    "# Predict the sentiment values\n",
    "comments_df['predicted_sentiment'] = model.predict(comments_df['text'])\n",
    "\n",
    "print(\n",
    "    classification_report(\n",
    "        comments_df['actual_sentiment'],\n",
    "        comments_df['predicted_sentiment']\n",
    "    )\n",
    ")"
   ]
  }
 ],
 "metadata": {
  "kernelspec": {
   "display_name": "Python 3",
   "language": "python",
   "name": "python3"
  },
  "language_info": {
   "codemirror_mode": {
    "name": "ipython",
    "version": 3
   },
   "file_extension": ".py",
   "mimetype": "text/x-python",
   "name": "python",
   "nbconvert_exporter": "python",
   "pygments_lexer": "ipython3",
   "version": "3.7.7"
  }
 },
 "nbformat": 4,
 "nbformat_minor": 4
}
