{
 "cells": [
  {
   "cell_type": "code",
   "execution_count": 1,
   "metadata": {},
   "outputs": [],
   "source": [
    "import pandas as pd\n",
    "from os import getcwd\n",
    "\n",
    "REVIEWS_DIR = getcwd() + '/data/book_reviews_nl.csv'\n",
    "reviews_df = pd.read_csv(REVIEWS_DIR)"
   ]
  },
  {
   "cell_type": "code",
   "execution_count": 2,
   "metadata": {},
   "outputs": [],
   "source": [
    "from sklearn.model_selection import train_test_split\n",
    "\n",
    "X = reviews_df['text']\n",
    "y = reviews_df['sentiment']\n",
    "\n",
    "X_train, X_test, y_train, y_test = train_test_split(\n",
    "    X, y,\n",
    "    test_size=0.4,\n",
    "    random_state=42\n",
    ")"
   ]
  },
  {
   "cell_type": "code",
   "execution_count": 3,
   "metadata": {},
   "outputs": [],
   "source": [
    "from Stemmer import Stemmer\n",
    "from sklearn.feature_extraction.text import TfidfVectorizer\n",
    "\n",
    "class StemmedTfidfVectorizer(TfidfVectorizer):\n",
    "    def build_analyzer(self):\n",
    "        analyzer = super(TfidfVectorizer, self).build_analyzer()\n",
    "        return lambda doc: Stemmer('nl').stemWords(analyzer(doc))"
   ]
  },
  {
   "cell_type": "code",
   "execution_count": 4,
   "metadata": {},
   "outputs": [],
   "source": [
    "from sklearn.pipeline import make_pipeline\n",
    "from sklearn.linear_model import LogisticRegression\n",
    "from sklearn.model_selection import GridSearchCV\n",
    "from sklearn.metrics import classification_report, confusion_matrix\n",
    "from multiprocessing import cpu_count\n",
    "from stop_words import get_stop_words\n",
    "from numpy import logspace\n",
    "from time import time\n",
    "\n",
    "class Model:\n",
    "    def __init__(self):\n",
    "        self.grid_pipeline = GridSearchCV(\n",
    "            # Make the pipeline\n",
    "            make_pipeline(\n",
    "                StemmedTfidfVectorizer(\n",
    "                    use_idf=True,\n",
    "                    min_df=1,\n",
    "                    stop_words=get_stop_words('dutch'),\n",
    "                    analyzer='word',\n",
    "                    ngram_range=(1, 1)\n",
    "                ),\n",
    "                LogisticRegression(\n",
    "                    random_state=42\n",
    "                )\n",
    "            ),\n",
    "            # Specify the hyperparametrization\n",
    "            {\n",
    "                'logisticregression__penalty': ['l1', 'l2'],\n",
    "                'logisticregression__C': logspace(-4, 4, 20),\n",
    "                'logisticregression__solver': ['liblinear']\n",
    "            },\n",
    "            scoring='accuracy',\n",
    "            cv=5,\n",
    "            # Use as many CPUs as possible\n",
    "            n_jobs=cpu_count() - 1,\n",
    "        )\n",
    "    \n",
    "    def train(self):\n",
    "        t1 = time()\n",
    "        # Mention that the training proces has started\n",
    "        print('\\n', 'Started training')\n",
    "        self.grid_pipeline.fit(X_train, y_train)\n",
    "        # Print the time that has elapsed\n",
    "        print('\\n', 'Training time elapsed: %s' % str(time() - t1))\n",
    "        # Print the best parameters\n",
    "        print('\\n', 'Best parameters:', self.grid_pipeline.best_params_)\n",
    "    \n",
    "    def test(self):\n",
    "        predictions = self.grid_pipeline.predict(X_test)\n",
    "        # Test the pipeline\n",
    "        print(\n",
    "            '\\n',\n",
    "            'Classification report:',\n",
    "            '\\n',\n",
    "            classification_report(y_test, predictions))\n",
    "        print(\n",
    "            '\\n',\n",
    "            'Confusion matrix:',\n",
    "            '\\n',\n",
    "            confusion_matrix(y_test, predictions)\n",
    "        )\n",
    "    \n",
    "    def predict(self, _X):\n",
    "        return self.grid_pipeline.predict(_X)"
   ]
  }
 ],
 "metadata": {
  "kernelspec": {
   "display_name": "Python 3",
   "language": "python",
   "name": "python3"
  },
  "language_info": {
   "codemirror_mode": {
    "name": "ipython",
    "version": 3
   },
   "file_extension": ".py",
   "mimetype": "text/x-python",
   "name": "python",
   "nbconvert_exporter": "python",
   "pygments_lexer": "ipython3",
   "version": "3.7.7"
  }
 },
 "nbformat": 4,
 "nbformat_minor": 4
}
