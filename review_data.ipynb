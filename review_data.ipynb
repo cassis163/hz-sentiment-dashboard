{
 "cells": [
  {
   "cell_type": "code",
   "execution_count": 10,
   "metadata": {},
   "outputs": [
    {
     "data": {
      "text/plain": [
       "(22252, 2)"
      ]
     },
     "execution_count": 10,
     "metadata": {},
     "output_type": "execute_result"
    }
   ],
   "source": [
    "import pandas as pd\n",
    "from os import getcwd, listdir\n",
    "\n",
    "DBRD_PATH = getcwd() + '/data/DBRD'\n",
    "\n",
    "def make_df(sub_dir):\n",
    "    _dir = DBRD_PATH + sub_dir\n",
    "    \n",
    "    def get_df(sentiment_dir):\n",
    "        files_dir = _dir + sentiment_dir\n",
    "        row_list = []\n",
    "        for file_name in listdir(files_dir):\n",
    "            with open(files_dir + '/' + file_name, 'r') as file:\n",
    "                text = file.read()\n",
    "            \n",
    "            row_list.append({\n",
    "                'text': text,\n",
    "                'sentiment': 'positive' if (sentiment_dir == '/pos') else 'negative'\n",
    "            })\n",
    "        \n",
    "        return pd.DataFrame(row_list)\n",
    "    \n",
    "    return pd.concat([get_df('/neg'), get_df('/pos')])\n",
    "\n",
    "df = pd.concat([make_df('/train'), make_df('/test')])\n",
    "df.to_csv(getcwd() + '/data/book_reviews_nl.csv', index=False)\n",
    "df.shape"
   ]
  }
 ],
 "metadata": {
  "kernelspec": {
   "display_name": "Python 3",
   "language": "python",
   "name": "python3"
  },
  "language_info": {
   "codemirror_mode": {
    "name": "ipython",
    "version": 3
   },
   "file_extension": ".py",
   "mimetype": "text/x-python",
   "name": "python",
   "nbconvert_exporter": "python",
   "pygments_lexer": "ipython3",
   "version": "3.7.7"
  }
 },
 "nbformat": 4,
 "nbformat_minor": 4
}
